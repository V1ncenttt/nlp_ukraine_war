{
 "cells": [
  {
   "cell_type": "markdown",
   "id": "decc4f9d-9f15-4d8e-b13b-8d067c5068ae",
   "metadata": {},
   "source": [
    "# War in Ukraine: Automatic tweet classifier using BERT\n"
   ]
  },
  {
   "cell_type": "markdown",
   "id": "999dc07f-1e9a-49f5-af29-10cc5d1633db",
   "metadata": {},
   "source": [
    "**Objective:**\n",
    "The goal of this project is to classify tweets related to the Russo-Ukrainian conflict into three categories: pro-Russian, pro-Ukrainian, or neutral. We aim to understand the public sentiment and differing perspectives surrounding this significant geopolitical event.\n",
    "\n",
    "**Methodology:**\n",
    "We utilize the BERT (Bidirectional Encoder Representations from Transformers) model, leveraging its powerful natural language processing capabilities. BERT's deep learning approach, designed to understand the context of words in search queries, makes it exceptionally suited for sentiment analysis in complex and nuanced datasets like ours."
   ]
  },
  {
   "cell_type": "markdown",
   "id": "a09ac1ef-58f5-4b92-847e-88724ce96576",
   "metadata": {},
   "source": [
    "## Load packages and dataset"
   ]
  },
  {
   "cell_type": "code",
   "execution_count": 1,
   "id": "cea89f25-6e37-442d-a3e0-84ad1ef13ec4",
   "metadata": {},
   "outputs": [],
   "source": [
    "import torch\n",
    "from torch.utils.data import DataLoader, RandomSampler, SequentialSampler, TensorDataset\n",
    "from transformers import BertTokenizer, BertForSequenceClassification, AdamW\n",
    "from sklearn.model_selection import train_test_split\n",
    "from sklearn.metrics import confusion_matrix, classification_report, accuracy_score\n",
    "import pandas as pd\n",
    "import numpy as np\n",
    "import matplotlib.pyplot as plt\n",
    "from seaborn import heatmap"
   ]
  },
  {
   "cell_type": "code",
   "execution_count": 2,
   "id": "af1087f0-4ec0-4b13-9ff2-843ed86ba523",
   "metadata": {},
   "outputs": [],
   "source": [
    "# Global variables\n",
    "DATASET_PATH = \"../data/dataset_training_ml.csv\"\n",
    "MODEL = 'bert-base-multilingual-cased' #We are using multilingual BERT because our dataset comprises text in multiple languages\n",
    "DEVICE = torch.device(\"mps\" if torch.backends.mps.is_available() else \"cpu\") # Check if MPS (Apple Silicon GPU) is available and use it\n",
    "TOKENIZER = BertTokenizer.from_pretrained(MODEL)\n",
    "MODEL_SAVE_PATH = \"model/\""
   ]
  },
  {
   "cell_type": "code",
   "execution_count": 3,
   "id": "a789f949-e0f8-4a6b-80a6-dd63e44061e1",
   "metadata": {},
   "outputs": [],
   "source": [
    "def loadDataset(file_path):\n",
    "    \"\"\"\n",
    "    Load the dataset from a CSV file and replace -1 sentiment with 2.\n",
    "\n",
    "    Parameters:\n",
    "    file_path (str): The path to the CSV file.\n",
    "\n",
    "    Returns:\n",
    "    df (DataFrame): The loaded dataset.\n",
    "    \"\"\"\n",
    "    df = pd.read_csv(file_path)\n",
    "    # Change the label for pro-ukrainian to make it easier\n",
    "    return df[['text','sentiment']].copy()"
   ]
  },
  {
   "cell_type": "code",
   "execution_count": 4,
   "id": "589a7a83-339b-4188-be3d-52190253f70c",
   "metadata": {},
   "outputs": [],
   "source": [
    "dataset = loadDataset(DATASET_PATH)"
   ]
  },
  {
   "cell_type": "code",
   "execution_count": 5,
   "id": "8a62478e-a321-46aa-bae4-e7fd353341db",
   "metadata": {},
   "outputs": [
    {
     "data": {
      "text/html": [
       "<div>\n",
       "<style scoped>\n",
       "    .dataframe tbody tr th:only-of-type {\n",
       "        vertical-align: middle;\n",
       "    }\n",
       "\n",
       "    .dataframe tbody tr th {\n",
       "        vertical-align: top;\n",
       "    }\n",
       "\n",
       "    .dataframe thead th {\n",
       "        text-align: right;\n",
       "    }\n",
       "</style>\n",
       "<table border=\"1\" class=\"dataframe\">\n",
       "  <thead>\n",
       "    <tr style=\"text-align: right;\">\n",
       "      <th></th>\n",
       "      <th>text</th>\n",
       "      <th>sentiment</th>\n",
       "    </tr>\n",
       "  </thead>\n",
       "  <tbody>\n",
       "    <tr>\n",
       "      <th>0</th>\n",
       "      <td>As we reflect on today's somber anniv. of the ...</td>\n",
       "      <td>0</td>\n",
       "    </tr>\n",
       "    <tr>\n",
       "      <th>1</th>\n",
       "      <td>@leonidragozin #Russia &amp;gt;&amp;gt;&amp;gt;After ousti...</td>\n",
       "      <td>2</td>\n",
       "    </tr>\n",
       "    <tr>\n",
       "      <th>2</th>\n",
       "      <td>#Putin si vergognava a dire che i suoi russi s...</td>\n",
       "      <td>2</td>\n",
       "    </tr>\n",
       "    <tr>\n",
       "      <th>3</th>\n",
       "      <td>1/ The #russianinvaders have kidnapped more th...</td>\n",
       "      <td>2</td>\n",
       "    </tr>\n",
       "    <tr>\n",
       "      <th>4</th>\n",
       "      <td>На шляху до Києва! \\n\\nGoing to Kyiv. \\n\\n#Sta...</td>\n",
       "      <td>2</td>\n",
       "    </tr>\n",
       "  </tbody>\n",
       "</table>\n",
       "</div>"
      ],
      "text/plain": [
       "                                                text  sentiment\n",
       "0  As we reflect on today's somber anniv. of the ...          0\n",
       "1  @leonidragozin #Russia &gt;&gt;&gt;After ousti...          2\n",
       "2  #Putin si vergognava a dire che i suoi russi s...          2\n",
       "3  1/ The #russianinvaders have kidnapped more th...          2\n",
       "4  На шляху до Києва! \\n\\nGoing to Kyiv. \\n\\n#Sta...          2"
      ]
     },
     "execution_count": 5,
     "metadata": {},
     "output_type": "execute_result"
    }
   ],
   "source": [
    "dataset.head()"
   ]
  },
  {
   "cell_type": "code",
   "execution_count": 6,
   "id": "72e244b1-fa33-4608-8f19-45ed153472b6",
   "metadata": {},
   "outputs": [
    {
     "data": {
      "text/plain": [
       "<Axes: xlabel='sentiment'>"
      ]
     },
     "execution_count": 6,
     "metadata": {},
     "output_type": "execute_result"
    },
    {
     "data": {
      "image/png": "[encoded data removed]",
      "text/plain": [
       "<Figure size 640x480 with 1 Axes>"
      ]
     },
     "metadata": {},
     "output_type": "display_data"
    }
   ],
   "source": [
    "dataset['sentiment'].value_counts().plot(kind='bar')"
   ]
  },
  {
   "cell_type": "markdown",
   "id": "9ef94b33-ee15-43a3-936b-d90694d9dc82",
   "metadata": {},
   "source": [
    "As we can see the dataset is rather imbalanced so we will use undersampling"
   ]
  },
  {
   "cell_type": "code",
   "execution_count": 7,
   "id": "ed3d6cb1-4d22-4c8c-9c27-b747210f9f19",
   "metadata": {},
   "outputs": [],
   "source": [
    "from imblearn.under_sampling import RandomUnderSampler\n",
    "# Define features (X) and target (y)\n",
    "X = dataset.drop('sentiment', axis=1)  # Assuming 'sentiment' is your target column\n",
    "y = dataset['sentiment']\n",
    "\n",
    "# Initialize the RandomUnderSampler\n",
    "rus = RandomUnderSampler(random_state=42)\n",
    "\n",
    "# Resample the dataset\n",
    "X_resampled, y_resampled = rus.fit_resample(X, y)\n",
    "\n",
    "X_resampled_df = pd.DataFrame(X_resampled, columns=['text'])  # Replace feature_columns with your actual feature names\n",
    "\n",
    "# Convert y_resampled to a DataFrame or Series\n",
    "y_resampled_df = pd.Series(y_resampled, name='sentiment')  # The column name 'sentiment' is based on your target variable\n",
    "\n",
    "# Combine the features and target into a single DataFrame\n",
    "balanced_dataset = pd.concat([X_resampled_df, y_resampled_df], axis=1)"
   ]
  },
  {
   "cell_type": "code",
   "execution_count": 12,
   "id": "0bb9ba49-a765-4698-b461-802b7778539f",
   "metadata": {},
   "outputs": [
    {
     "data": {
      "text/plain": [
       "<Axes: xlabel='sentiment'>"
      ]
     },
     "execution_count": 12,
     "metadata": {},
     "output_type": "execute_result"
    },
    {
     "data": {
      "image/png": "[encoded data removed]",
      "text/plain": [
       "<Figure size 640x480 with 1 Axes>"
      ]
     },
     "metadata": {},
     "output_type": "display_data"
    }
   ],
   "source": [
    "balanced_dataset['sentiment'].value_counts().plot(kind='bar')"
   ]
  },
  {
   "cell_type": "code",
   "execution_count": 13,
   "id": "59e80f7b-da7e-4e43-b713-1a0c980ac23d",
   "metadata": {},
   "outputs": [],
   "source": [
    "dataset = balanced_dataset"
   ]
  },
  {
   "cell_type": "markdown",
   "id": "700e1b2a-33f6-447d-92ba-162cd8d96365",
   "metadata": {},
   "source": [
    "## Tokenise and format text"
   ]
  },
  {
   "cell_type": "code",
   "execution_count": 8,
   "id": "5b383487-6998-4147-aa90-a624d0fba832",
   "metadata": {},
   "outputs": [],
   "source": [
    "def tokenizeAndFormatText(df, tokenizer):\n",
    "    \"\"\"\n",
    "    Tokenize all texts and map the labels.\n",
    "\n",
    "    Parameters:\n",
    "    df (DataFrame): The dataset.\n",
    "    tokenizer (BertTokenizer): The tokenizer.\n",
    "\n",
    "    Returns:\n",
    "    input_ids (list): The tokenized input ids.\n",
    "    attention_masks (list): The attention masks.\n",
    "    labels (list): The labels.\n",
    "    \"\"\"\n",
    "    input_ids = []\n",
    "    attention_masks = []\n",
    "    labels = []\n",
    "\n",
    "    for text, label in zip(df['text'], df['sentiment']):\n",
    "        encoded_dict = tokenizer.encode_plus(\n",
    "                        text,                     \n",
    "                        add_special_tokens = True, \n",
    "                        max_length = 64,          \n",
    "                        pad_to_max_length = True,\n",
    "                        return_attention_mask = True,  \n",
    "                        return_tensors = 'pt',   \n",
    "                   )\n",
    "    \n",
    "        input_ids.append(encoded_dict['input_ids'])\n",
    "        attention_masks.append(encoded_dict['attention_mask'])\n",
    "        labels.append(label)\n",
    "\n",
    "    return input_ids, attention_masks, labels"
   ]
  },
  {
   "cell_type": "markdown",
   "id": "ac44d611-16d8-44aa-926b-c1bd0864cbae",
   "metadata": {},
   "source": [
    "**Input IDs:** These are token IDs assigned to each token (word or subword) in the input text. BERT and similar models have a tokenizer that breaks down text into tokens and maps each token to a unique ID. These IDs are used by the model to understand and process the input text.\n",
    "\n",
    "**Attention Masks:** Since inputs to models like BERT need to be of the same length, shorter sentences are padded with zeros. However, the model should only pay attention to the actual words, not the padding. Attention masks are binary (0s and 1s) masks that indicate which tokens in the input are words and which are padding. A 1 indicates a real token and a 0 indicates a padding token. This helps the model focus only on the relevant parts of the input.\n",
    "\n",
    "**Labels:** In the context of supervised learning, such as sentiment analysis or classification tasks, labels represent the actual category or class each input text belongs to. For example, in sentiment analysis, labels might indicate whether a sentence has positive, negative, or neutral sentiment. The model uses these labels during training to learn how to predict the correct category for new, unseen inputs."
   ]
  },
  {
   "cell_type": "code",
   "execution_count": 9,
   "id": "a74195eb-207d-4d8e-a731-64d2cc5bd720",
   "metadata": {},
   "outputs": [
    {
     "name": "stderr",
     "output_type": "stream",
     "text": [
      "Truncation was not explicitly activated but `max_length` is provided a specific value, please use `truncation=True` to explicitly truncate examples to max length. Defaulting to 'longest_first' truncation strategy. If you encode pairs of sequences (GLUE-style) with the tokenizer you can select this strategy more precisely by providing a specific strategy to `truncation`.\n",
      "/Users/vincentlesang/miniconda3/envs/torch/lib/python3.9/site-packages/transformers/tokenization_utils_base.py:2614: FutureWarning: The `pad_to_max_length` argument is deprecated and will be removed in a future version, use `padding=True` or `padding='longest'` to pad to the longest sequence in the batch, or use `padding='max_length'` to pad to a max length. In this case, you can give a specific length with `max_length` (e.g. `max_length=45`) or leave max_length to None to pad to the maximal input size of the model (e.g. 512 for Bert).\n",
      "  warnings.warn(\n"
     ]
    }
   ],
   "source": [
    "input_ids, attention_masks, labels = tokenizeAndFormatText(dataset, TOKENIZER)"
   ]
  },
  {
   "cell_type": "markdown",
   "id": "e9bc5ef4-9a11-4a8a-93d4-8463cbd61658",
   "metadata": {},
   "source": [
    "## Convert everything to tensors"
   ]
  },
  {
   "cell_type": "code",
   "execution_count": 10,
   "id": "de9e6b29-319e-475c-869e-78fb4ee5c222",
   "metadata": {},
   "outputs": [],
   "source": [
    "input_ids = torch.cat(input_ids, dim=0).to(DEVICE) # We convert the tensors to make them optimised for the corresponding devices\n",
    "attention_masks = torch.cat(attention_masks, dim=0).to(DEVICE)\n",
    "labels = torch.tensor(labels, device = DEVICE)"
   ]
  },
  {
   "cell_type": "markdown",
   "id": "7384f9c1-8c6a-483e-9e6e-f7475f0358a8",
   "metadata": {},
   "source": [
    "## Split data into the train and validation sets"
   ]
  },
  {
   "cell_type": "markdown",
   "id": "65141cc9-de8b-4467-b422-3f2e9a81e03f",
   "metadata": {},
   "source": []
  },
  {
   "cell_type": "code",
   "execution_count": 11,
   "id": "c83d3264-9910-48bc-a700-8a060942afcb",
   "metadata": {},
   "outputs": [],
   "source": [
    "# Split data into train and validation sets\n",
    "train_inputs, validation_inputs, train_labels, validation_labels = train_test_split(input_ids, labels, random_state=2018, test_size=0.15)\n",
    "train_masks, validation_masks, _, _ = train_test_split(attention_masks, labels, random_state=2018, test_size=0.15)"
   ]
  },
  {
   "cell_type": "markdown",
   "id": "f73b400b-cd27-4256-8a06-331bbbbfd3fe",
   "metadata": {},
   "source": [
    "## Create the DataLoaders"
   ]
  },
  {
   "cell_type": "code",
   "execution_count": 12,
   "id": "ff46d5eb-c50c-42bc-9040-9aec4975d9bf",
   "metadata": {},
   "outputs": [],
   "source": [
    "# Create DataLoaders\n",
    "batch_size = 32 # 32 is a common practice in machine learning (balance between computational efficiency and model performance)\n",
    "train_data = TensorDataset(train_inputs, train_masks, train_labels)\n",
    "train_sampler = RandomSampler(train_data)\n",
    "train_dataloader = DataLoader(train_data, sampler=train_sampler, batch_size=batch_size)\n",
    "\n",
    "validation_data = TensorDataset(validation_inputs, validation_masks, validation_labels)\n",
    "validation_sampler = SequentialSampler(validation_data)\n",
    "validation_dataloader = DataLoader(validation_data, sampler=validation_sampler, batch_size=batch_size)"
   ]
  },
  {
   "cell_type": "markdown",
   "id": "22265350-7070-4fdc-b769-61b3de2a604a",
   "metadata": {},
   "source": [
    "## Create and train the model"
   ]
  },
  {
   "cell_type": "code",
   "execution_count": 13,
   "id": "32b92398-acba-49e8-b808-474e1f897085",
   "metadata": {},
   "outputs": [
    {
     "name": "stderr",
     "output_type": "stream",
     "text": [
      "Some weights of BertForSequenceClassification were not initialized from the model checkpoint at bert-base-multilingual-cased and are newly initialized: ['classifier.weight', 'classifier.bias']\n",
      "You should probably TRAIN this model on a down-stream task to be able to use it for predictions and inference.\n"
     ]
    }
   ],
   "source": [
    "model = BertForSequenceClassification.from_pretrained(\n",
    "    MODEL,\n",
    "    num_labels = 3, \n",
    "    output_attentions = False, \n",
    "    output_hidden_states = False,\n",
    ")"
   ]
  },
  {
   "cell_type": "code",
   "execution_count": 14,
   "id": "7af80d54-afbd-4a8a-a837-87ee1f87a4e5",
   "metadata": {},
   "outputs": [
    {
     "data": {
      "text/plain": [
       "BertForSequenceClassification(\n",
       "  (bert): BertModel(\n",
       "    (embeddings): BertEmbeddings(\n",
       "      (word_embeddings): Embedding(119547, 768, padding_idx=0)\n",
       "      (position_embeddings): Embedding(512, 768)\n",
       "      (token_type_embeddings): Embedding(2, 768)\n",
       "      (LayerNorm): LayerNorm((768,), eps=1e-12, elementwise_affine=True)\n",
       "      (dropout): Dropout(p=0.1, inplace=False)\n",
       "    )\n",
       "    (encoder): BertEncoder(\n",
       "      (layer): ModuleList(\n",
       "        (0-11): 12 x BertLayer(\n",
       "          (attention): BertAttention(\n",
       "            (self): BertSelfAttention(\n",
       "              (query): Linear(in_features=768, out_features=768, bias=True)\n",
       "              (key): Linear(in_features=768, out_features=768, bias=True)\n",
       "              (value): Linear(in_features=768, out_features=768, bias=True)\n",
       "              (dropout): Dropout(p=0.1, inplace=False)\n",
       "            )\n",
       "            (output): BertSelfOutput(\n",
       "              (dense): Linear(in_features=768, out_features=768, bias=True)\n",
       "              (LayerNorm): LayerNorm((768,), eps=1e-12, elementwise_affine=True)\n",
       "              (dropout): Dropout(p=0.1, inplace=False)\n",
       "            )\n",
       "          )\n",
       "          (intermediate): BertIntermediate(\n",
       "            (dense): Linear(in_features=768, out_features=3072, bias=True)\n",
       "            (intermediate_act_fn): GELUActivation()\n",
       "          )\n",
       "          (output): BertOutput(\n",
       "            (dense): Linear(in_features=3072, out_features=768, bias=True)\n",
       "            (LayerNorm): LayerNorm((768,), eps=1e-12, elementwise_affine=True)\n",
       "            (dropout): Dropout(p=0.1, inplace=False)\n",
       "          )\n",
       "        )\n",
       "      )\n",
       "    )\n",
       "    (pooler): BertPooler(\n",
       "      (dense): Linear(in_features=768, out_features=768, bias=True)\n",
       "      (activation): Tanh()\n",
       "    )\n",
       "  )\n",
       "  (dropout): Dropout(p=0.1, inplace=False)\n",
       "  (classifier): Linear(in_features=768, out_features=3, bias=True)\n",
       ")"
      ]
     },
     "execution_count": 14,
     "metadata": {},
     "output_type": "execute_result"
    }
   ],
   "source": [
    "model.to(DEVICE) # Make the model optimised for our device"
   ]
  },
  {
   "cell_type": "code",
   "execution_count": 15,
   "id": "48d9358b-5133-4b0e-aa94-1b8592657b3d",
   "metadata": {},
   "outputs": [],
   "source": [
    "optimizer = torch.optim.AdamW(model.parameters(), lr = 2e-5, eps = 1e-8) # We load AdamW as an optimizer\n",
    "# which is a kind of stochastic gradient descent"
   ]
  },
  {
   "cell_type": "code",
   "execution_count": 16,
   "id": "b0d8e238-a52a-4e04-aa37-4d3ff9da72f2",
   "metadata": {},
   "outputs": [
    {
     "name": "stdout",
     "output_type": "stream",
     "text": [
      "Running epoch 0...\n",
      "Running epoch 1...\n",
      "Running epoch 2...\n",
      "Running epoch 3...\n"
     ]
    }
   ],
   "source": [
    "# Training Loop\n",
    "# Note: This is a simplified version of the training loop\n",
    "for epoch_i in range(0, 4):\n",
    "    print('Running epoch {}...'.format(epoch_i))\n",
    "    # Training\n",
    "    model.train()\n",
    "    for step, batch in enumerate(train_dataloader):\n",
    "        batch = tuple(t.to(DEVICE) for t in batch)\n",
    "        b_input_ids, b_input_mask, b_labels = batch\n",
    "        model.zero_grad()        \n",
    "        outputs = model(b_input_ids, token_type_ids=None, attention_mask=b_input_mask, labels=b_labels)\n",
    "        loss = outputs.loss\n",
    "        loss.backward()\n",
    "        optimizer.step()"
   ]
  },
  {
   "cell_type": "markdown",
   "id": "489de560-d46d-4aa2-a32c-29164bb72dfc",
   "metadata": {},
   "source": [
    "## Model Evaluation"
   ]
  },
  {
   "cell_type": "code",
   "execution_count": 17,
   "id": "c0bb76f2-61c8-4008-a624-65ca836184a0",
   "metadata": {},
   "outputs": [],
   "source": [
    "# Evaluation\n",
    "model.eval()\n",
    "predictions, true_labels = [], []\n",
    "\n",
    "for batch in validation_dataloader:\n",
    "    batch = tuple(t.to(DEVICE) for t in batch)\n",
    "    b_input_ids, b_input_mask, b_labels = batch\n",
    "    with torch.no_grad():\n",
    "        outputs = model(b_input_ids, token_type_ids=None, attention_mask=b_input_mask)\n",
    "    logits = outputs.logits\n",
    "    logits = logits.detach().cpu().numpy()\n",
    "    label_ids = b_labels.to('cpu').numpy()\n",
    "    predictions.append(logits)\n",
    "    true_labels.append(label_ids)"
   ]
  },
  {
   "cell_type": "code",
   "execution_count": 18,
   "id": "0ff22277-b34a-4d0f-9329-7cd71d457b55",
   "metadata": {},
   "outputs": [],
   "source": [
    "# Flatten the predictions and true values for aggregate classification report\n",
    "flat_predictions = np.concatenate(predictions, axis=0)\n",
    "flat_predictions = np.argmax(flat_predictions, axis=1).flatten()\n",
    "flat_true_labels = np.concatenate(true_labels, axis=0)"
   ]
  },
  {
   "cell_type": "code",
   "execution_count": 19,
   "id": "140c921c-d4e1-4451-a21e-05da62be807c",
   "metadata": {
    "scrolled": true
   },
   "outputs": [
    {
     "data": {
      "text/plain": [
       "Text(70.72222222222221, 0.5, 'True labels')"
      ]
     },
     "execution_count": 19,
     "metadata": {},
     "output_type": "execute_result"
    },
    {
     "data": {
      "image/png": "[encoded data removed]",
      "text/plain": [
       "<Figure size 800x800 with 2 Axes>"
      ]
     },
     "metadata": {},
     "output_type": "display_data"
    }
   ],
   "source": [
    "cm = confusion_matrix(flat_true_labels, flat_predictions)\n",
    "plt.figure(figsize=(8, 8))\n",
    "heatmap(cm, annot=True, fmt='g', cmap='Blues')\n",
    "plt.xlabel('Predicted labels')\n",
    "plt.ylabel('True labels')"
   ]
  },
  {
   "cell_type": "code",
   "execution_count": 20,
   "id": "f6a9c99f-1d94-40aa-8345-a3020da3c053",
   "metadata": {
    "scrolled": true
   },
   "outputs": [
    {
     "name": "stdout",
     "output_type": "stream",
     "text": [
      "Accuracy: 0.8541862652869238\n",
      "Classification Report:\n",
      "               precision    recall  f1-score   support\n",
      "\n",
      "      Neutral       0.90      0.92      0.91       725\n",
      "  Pro-Russian       0.77      0.55      0.64       119\n",
      "Pro-Ukrainian       0.75      0.81      0.78       219\n",
      "\n",
      "     accuracy                           0.85      1063\n",
      "    macro avg       0.81      0.76      0.78      1063\n",
      " weighted avg       0.85      0.85      0.85      1063\n",
      "\n"
     ]
    }
   ],
   "source": [
    "accuracy = accuracy_score(flat_true_labels, flat_predictions)\n",
    "report = classification_report(flat_true_labels, flat_predictions, target_names=['Neutral', 'Pro-Russian', 'Pro-Ukrainian'])\n",
    "\n",
    "print(f\"Accuracy: {accuracy}\")\n",
    "print(\"Classification Report:\")\n",
    "print(report)\n"
   ]
  },
  {
   "cell_type": "markdown",
   "id": "383ed289-e888-43f9-85d5-cb474798d034",
   "metadata": {},
   "source": [
    "## Save the model"
   ]
  },
  {
   "cell_type": "code",
   "execution_count": 22,
   "id": "f8a69ff6-b44f-4ce6-a417-b4b2e7d243d6",
   "metadata": {},
   "outputs": [
    {
     "data": {
      "text/plain": [
       "('model/tokenizer_config.json',\n",
       " 'model/special_tokens_map.json',\n",
       " 'model/vocab.txt',\n",
       " 'model/added_tokens.json')"
      ]
     },
     "execution_count": 22,
     "metadata": {},
     "output_type": "execute_result"
    }
   ],
   "source": [
    "# Save the model to a directory\n",
    "model.save_pretrained(MODEL_SAVE_PATH)\n",
    "TOKENIZER.save_pretrained(MODEL_SAVE_PATH)\n"
   ]
  },
  {
   "cell_type": "code",
   "execution_count": null,
   "id": "9918a742-3c40-4368-a71a-d2047d4ea67c",
   "metadata": {},
   "outputs": [],
   "source": []
  }
 ],
 "metadata": {
  "kernelspec": {
   "display_name": "Python 3.9 (torch)",
   "language": "python",
   "name": "pytorch"
  },
  "language_info": {
   "codemirror_mode": {
    "name": "ipython",
    "version": 3
   },
   "file_extension": ".py",
   "mimetype": "text/x-python",
   "name": "python",
   "nbconvert_exporter": "python",
   "pygments_lexer": "ipython3",
   "version": "3.9.18"
  }
 },
 "nbformat": 4,
 "nbformat_minor": 5
}
